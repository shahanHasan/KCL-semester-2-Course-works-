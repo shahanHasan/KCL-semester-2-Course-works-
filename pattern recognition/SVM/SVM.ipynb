{
 "cells": [
  {
   "cell_type": "code",
   "execution_count": 65,
   "id": "confidential-edwards",
   "metadata": {},
   "outputs": [
    {
     "name": "stdout",
     "output_type": "stream",
     "text": [
      "Student ID : 9999999\n"
     ]
    }
   ],
   "source": [
    "import math\n",
    "import numpy as np\n",
    "import matplotlib.pyplot as plt\n",
    "import seaborn as sns\n",
    "import pandas as pd\n",
    "from sklearn.datasets import make_classification\n",
    "\n",
    "\n",
    "\n",
    "s1, s2, s3, s4, s5, s6, s7 = 9, 9, 9, 9, 9, 9, 9\n",
    "\n",
    "print(\"Student ID : \",s1,s2,s3,s4,s5,s6,s7, sep=\"\")"
   ]
  },
  {
   "cell_type": "code",
   "execution_count": 66,
   "id": "interstate-moral",
   "metadata": {},
   "outputs": [],
   "source": [
    "R1 = (s1 + s2 + s3 + s4 + s5 + s6 + s7) % 4 "
   ]
  },
  {
   "cell_type": "code",
   "execution_count": 67,
   "id": "utility-liabilities",
   "metadata": {},
   "outputs": [
    {
     "name": "stdout",
     "output_type": "stream",
     "text": [
      "3\n"
     ]
    }
   ],
   "source": [
    "print(R1)"
   ]
  },
  {
   "cell_type": "code",
   "execution_count": 70,
   "id": "spoken-trinidad",
   "metadata": {},
   "outputs": [
    {
     "name": "stdout",
     "output_type": "stream",
     "text": [
      "Number of Classifiers one one method : 3.0\n",
      "Number of Classifiers one all method : 3\n",
      "Number of Classifiers Binary Descision Tree method : 2\n",
      "Number of Classifiers Binary Coded method : 2\n"
     ]
    }
   ],
   "source": [
    "\"\"\"\n",
    "R1 = 3\n",
    "R1  --Method--   --No of SVM Classifiers--\n",
    "\n",
    "0    1-1               (R(R-1))/2\n",
    "1    1-All               R\n",
    "2    Binary Tree         R-1\n",
    "3    Binary Code         ceil(log(R,2))\n",
    "\"\"\"\n",
    "\n",
    "#NO of Classifiers \n",
    "classes = 3\n",
    "one1 = (classes * (classes-1))/2\n",
    "oneALl = classes\n",
    "BinaryTree = classes -1 \n",
    "BinaryCode = math.ceil(math.log2(classes))\n",
    "\n",
    "print(f\"Number of Classifiers one one method : {one1}\")\n",
    "print(f\"Number of Classifiers one all method : {oneALl}\")\n",
    "print(f\"Number of Classifiers Binary Descision Tree method : {BinaryTree}\")\n",
    "print(f\"Number of Classifiers Binary Coded method : {BinaryCode}\")"
   ]
  },
  {
   "cell_type": "code",
   "execution_count": 71,
   "id": "unlikely-attitude",
   "metadata": {},
   "outputs": [
    {
     "data": {
      "image/png": "[encoded data removed]",
      "text/plain": [
       "<Figure size 432x288 with 1 Axes>"
      ]
     },
     "metadata": {
      "needs_background": "light"
     },
     "output_type": "display_data"
    }
   ],
   "source": [
    "Class1 = np.array([\n",
    " [ 0.95373528, -1.07146117],\n",
    " [ 1.34614393, -1.12429852],\n",
    " [ 2.69080959, -1.99700243],\n",
    " [ 0.21364281, -0.47880539],\n",
    " [ 2.07835484, -1.61577998],\n",
    " [ 2.03630606, -1.42677539],\n",
    " [ 0.22577234, -0.72996426],\n",
    " [ 2.07491164, -1.41250492],\n",
    " [ 1.00355022, -1.09527967],\n",
    " [ 0.24859573, -0.59857565]\n",
    "])\n",
    "\n",
    "Class2 = np.array([\n",
    " [-1.24858107,  1.21637104],\n",
    " [-1.45233382,  1.98114643],\n",
    " [-1.05591223,  0.92508526],\n",
    " [-1.69029362,  1.87205283],\n",
    " [-0.76719341,  0.40683347],\n",
    " [-1.06831949,  0.99763641],\n",
    " [-0.87130636,  0.82939409],\n",
    " [-1.38726857,  1.47313774],\n",
    " [-1.36028621,  1.32854424],\n",
    " [-1.13366483,  1.3598433 ]\n",
    "])\n",
    "\n",
    "Class3 = np.array([\n",
    " [ 1.43573321, 0.49017429],\n",
    " [ 0.05680403,  2.05754635],\n",
    " [-0.03644485,  2.17146203],\n",
    " [ 0.15773214,  1.89439041],\n",
    " [ 1.21243465,  0.74435076],\n",
    " [ 1.40660709,  0.55138092],\n",
    " [ 1.32127115,  0.62336359],\n",
    " [ 1.89262728, -0.02430861],\n",
    " [ 2.15129964, -0.29374274],\n",
    " [ 0.80243328,  1.22024445]\n",
    "])\n",
    "\n",
    "plt.plot(Class1[:, 0], Class1[:, 1], 'r.')\n",
    "plt.plot(Class2[:, 0], Class2[:, 1], 'b.')\n",
    "plt.plot(Class3[:, 0], Class3[:, 1], 'g.')\n",
    "\n",
    "y = np.linspace(-5,5,100)\n",
    "x = np.full((100),-0.5)\n",
    "plt.plot(x, y, label='x = - 0.5')\n",
    "\n",
    "\n",
    "x = np.linspace(-3,3,100)\n",
    "y = math.tan(-45* math.pi / 180)*x + 1\n",
    "plt.plot(x, y, label='x = - 0.5')\n",
    "\n",
    "\n",
    "x = np.linspace(-3,4,100)\n",
    "y = np.full((100),-0.4)\n",
    "plt.plot(x, y, label='x = - 0.5')\n",
    "\n",
    "\n",
    "plt.show()\n",
    "\n"
   ]
  },
  {
   "cell_type": "code",
   "execution_count": 72,
   "id": "developmental-immune",
   "metadata": {},
   "outputs": [
    {
     "data": {
      "image/png": "[encoded data removed]",
      "text/plain": [
       "<Figure size 432x288 with 1 Axes>"
      ]
     },
     "metadata": {
      "needs_background": "light"
     },
     "output_type": "display_data"
    }
   ],
   "source": [
    "separable = False\n",
    "while not separable:\n",
    "    samples = make_classification(n_samples=30, n_features=2, n_classes= 3, n_redundant=0, n_informative=2, n_clusters_per_class=1, flip_y=-1)\n",
    "    red = samples[0][samples[1] == 0]\n",
    "    blue = samples[0][samples[1] == 1]\n",
    "    green = samples[0][samples[1] == 2]\n",
    "    separable = any([red[:, k].max() < blue[:, k].min() or red[:, k].min() > blue[:, k].max() for k in range(2)])\n",
    "plt.plot(red[:, 0], red[:, 1], 'r.')\n",
    "plt.plot(blue[:, 0], blue[:, 1], 'b.')\n",
    "plt.plot(green[:, 0], green[:, 1], 'g.')\n",
    "plt.show()"
   ]
  },
  {
   "cell_type": "code",
   "execution_count": 73,
   "id": "tutorial-domestic",
   "metadata": {},
   "outputs": [
    {
     "data": {
      "image/png": "[encoded data removed]",
      "text/plain": [
       "<Figure size 432x288 with 1 Axes>"
      ]
     },
     "metadata": {
      "needs_background": "light"
     },
     "output_type": "display_data"
    }
   ],
   "source": [
    "Class1 = np.array([\n",
    " [ 1, 1],\n",
    " [ 1, 2],\n",
    " [ 2, 1],\n",
    " [ 2, 2],\n",
    " [ 3, 1],\n",
    " [ 3, 2],\n",
    " [ 4, 1],\n",
    " [ 4, 2],\n",
    " [ 1, 3],\n",
    " [ 2, 3]\n",
    "])\n",
    "\n",
    "Class2 = np.array([\n",
    " [ 11, 11],\n",
    " [ 11, 12],\n",
    " [ 12, 11],\n",
    " [ 12, 12],\n",
    " [ 13, 11],\n",
    " [ 13, 12],\n",
    " [ 14, 11],\n",
    " [ 14, 12],\n",
    " [ 11, 13],\n",
    " [ 12, 13]\n",
    "])\n",
    "\n",
    "Class3 = np.array([\n",
    " [ 21, 21],\n",
    " [ 21, 22],\n",
    " [ 22, 21],\n",
    " [ 22, 22],\n",
    " [ 23, 21],\n",
    " [ 23, 22],\n",
    " [ 24, 21],\n",
    " [ 24, 22],\n",
    " [ 21, 23],\n",
    " [ 22, 23]\n",
    "])\n",
    "\n",
    "plt.plot(Class1[:, 0], Class1[:, 1], 'r.')\n",
    "plt.plot(Class2[:, 0], Class2[:, 1], 'b.')\n",
    "plt.plot(Class3[:, 0], Class3[:, 1], 'g.')\n",
    "\n",
    "y = np.linspace(-5,25 , 100)\n",
    "\n",
    "x1 = np.full((100),6)\n",
    "plt.plot(x1, y,  label='x1 = 6')\n",
    "\n",
    "x2 = np.full((100),17)\n",
    "plt.plot(x2, y,  label='x2 = 17')\n",
    "\n",
    "\n",
    "\n",
    "x  = np.linspace(0,25,100)\n",
    "y1 = np.full((100),6)\n",
    "plt.plot(x, y1,  label='y1 = 6')\n",
    "y2 = np.full((100),17)\n",
    "plt.plot(x, y2, label='y2 = 17')\n",
    "\n",
    "plt.show()\n",
    "\n"
   ]
  },
  {
   "cell_type": "code",
   "execution_count": 89,
   "id": "amino-scientist",
   "metadata": {},
   "outputs": [
    {
     "name": "stdout",
     "output_type": "stream",
     "text": [
      "--------------------------------------------------\n",
      "Method Obtained :  (Binary Coded) ,  R1 = 3\n",
      "Number of inputs : 2 (2D feature Vector)\n",
      "Number of outputs : 1 (Class label)\n",
      "Number of Classes : 3\n",
      "Number of SVM Classifiers , ceil(log2(classes)) : 2\n",
      "--------------------------------------------------\n",
      "\n",
      "    SVM Number    Class assignment (+1 | -1)\n",
      "--  ------------  ----------------------------\n",
      " 1  SVM 1         Class 1     | Class 2 & 3\n",
      " 2  SVM 2         Class 1 & 2 | Class 3\n",
      "\n",
      "Fig : Class Assignments\n"
     ]
    }
   ],
   "source": [
    "from tabulate import tabulate\n",
    "data = [\n",
    "    [1, 'SVM 1', \"Class 1     | Class 2 & 3\"],\n",
    "    [2, 'SVM 2', \"Class 1 & 2 | Class 3\"],\n",
    "    \n",
    "]\n",
    "\n",
    "print(\"-\"*50)\n",
    "print(f\"Method Obtained :  (Binary Coded) ,  R1 = 3\")\n",
    "print(f\"Number of inputs : 2 (2D feature Vector)\")\n",
    "print(f\"Number of outputs : 1 (Class label)\")\n",
    "print(f\"Number of Classes : {classes}\")\n",
    "print(f\"Number of SVM Classifiers , ceil(log2(classes)) : {math.ceil(math.log2(classes))}\")\n",
    "print(\"-\"*50)\n",
    "print()\n",
    "print(tabulate(data, headers=[\"SVM Number\", \"Class assignment (+1 | -1)\"]))\n",
    "print()\n",
    "print(\"Fig : Class Assignments\")"
   ]
  },
  {
   "cell_type": "code",
   "execution_count": 85,
   "id": "mighty-clone",
   "metadata": {},
   "outputs": [
    {
     "name": "stdout",
     "output_type": "stream",
     "text": [
      "  Class    SVM 1     SVM 2\n",
      "-------  --------  -------\n",
      "      1        +1       +1\n",
      "      2        -1       +1\n",
      "      3        -1       -1\n",
      "Fig : Code Assignments\n"
     ]
    }
   ],
   "source": [
    "data = [\n",
    "    [1, '+1', \"+1\"],\n",
    "    [2, '-1', \"+1\"],\n",
    "    [3, \"-1\", \"-1\"]\n",
    "] \n",
    "\n",
    "print(tabulate(data, headers=[\"Class\", \"SVM 1 \", \"SVM 2\"]))\n",
    "print(\"Fig : Code Assignments\")"
   ]
  },
  {
   "cell_type": "code",
   "execution_count": 119,
   "id": "adolescent-architect",
   "metadata": {},
   "outputs": [
    {
     "data": {
      "image/png": "[encoded data removed]",
      "text/plain": [
       "<Figure size 432x288 with 1 Axes>"
      ]
     },
     "metadata": {
      "needs_background": "light"
     },
     "output_type": "display_data"
    },
    {
     "name": "stdout",
     "output_type": "stream",
     "text": [
      " [7.5, 6.5] 1.2857142857142858 -0.7777777777777777 [17.5, 16.5]  1.2857142857142858 -0.7777777777777777\n"
     ]
    }
   ],
   "source": [
    "#SVM 1\n",
    "SVM1SupportVector1 = [4,2]\n",
    "SVM1SupportVector2 = [11,11]\n",
    "\n",
    "x1 = (SVM1SupportVector1[0]+SVM1SupportVector2[0])/2\n",
    "y1 = (SVM1SupportVector1[1]+SVM1SupportVector2[1])/2\n",
    "\n",
    "# x = x1+x2/2 , y = y1+y2/2\n",
    "midpoint1 = [x1,y1]\n",
    "\n",
    "# slope, m = y2 - y1 / x2- x1\n",
    "slopeOriginal = (SVM1SupportVector2[1]-SVM1SupportVector1[1])/(SVM1SupportVector2[0]-SVM1SupportVector1[0])\n",
    "\n",
    "# Perpendicular Bisector Slope \n",
    "# slopeP = 1/ - slope,m\n",
    "\n",
    "slope = -1 / slopeOriginal\n",
    "#SVM = y−yp=m2(x−xp)\n",
    "intercept = y1 - slope*x1\n",
    "\n",
    "#SVM 2\n",
    "SVM2SupportVector1 = [14,12]\n",
    "SVM2SupportVector2 = [21,21]\n",
    "\n",
    "x2 = (SVM2SupportVector1[0]+SVM2SupportVector2[0])/2\n",
    "y2 = (SVM2SupportVector1[1]+SVM2SupportVector2[1])/2\n",
    "midpoint2 = [x2,y2]\n",
    "\n",
    "# slope, m = y2 - y1 / x2- x1\n",
    "slopeOriginal1 = (SVM2SupportVector2[1]-SVM2SupportVector1[1])/(SVM2SupportVector2[0]-SVM2SupportVector1[0])\n",
    "\n",
    "# Perpendicular Bisector Slope \n",
    "# slopeP = 1/ - slope,m\n",
    "\n",
    "slope1 = -1 / slopeOriginal1\n",
    "#SVM = y−yp=m2(x−xp)\n",
    "intercept2 = y2 - slope1*x2\n",
    "\n",
    "plt.plot(Class1[:, 0], Class1[:, 1], 'r.')\n",
    "plt.plot(Class2[:, 0], Class2[:, 1], 'b.')\n",
    "plt.plot(Class3[:, 0], Class3[:, 1], 'g.')\n",
    "\n",
    "#SVM 1\n",
    "x = np.linspace(-3,13,100)\n",
    "y = intercept + slope*x\n",
    "plt.plot(x, y, label='x = - 0.5')\n",
    "plt.plot(SVM1SupportVector1[0],SVM1SupportVector1[1],'ro')\n",
    "plt.text(SVM1SupportVector1[0],SVM1SupportVector1[1]+1 , 'SV1')\n",
    "plt.plot(SVM1SupportVector2[0],SVM1SupportVector2[1],'ro')\n",
    "plt.text(SVM1SupportVector2[0]-1,SVM1SupportVector2[1]-2 , 'SV2')\n",
    "\n",
    "#SVM 2 \n",
    "x = np.linspace(6,23,100)\n",
    "y = intercept2 + slope1*x\n",
    "plt.plot(x, y, label='x = - 0.5')\n",
    "plt.plot(SVM2SupportVector1[0],SVM2SupportVector1[1],'ko')\n",
    "plt.text(SVM2SupportVector1[0],SVM2SupportVector1[1]+1 , 'SV1')\n",
    "plt.plot(SVM2SupportVector2[0],SVM2SupportVector2[1],'ko')\n",
    "plt.text(SVM2SupportVector2[0]-1,SVM2SupportVector2[1]-2 , 'SV2')\n",
    "\n",
    "\n",
    "plt.plot(4,1,'ko')\n",
    "plt.show()\n",
    "\n",
    "\n",
    "print(f\" {midpoint1 } {slopeOriginal } {slope } {midpoint2}  {slopeOriginal1} {slope1}\")"
   ]
  },
  {
   "cell_type": "code",
   "execution_count": null,
   "id": "absolute-pharmaceutical",
   "metadata": {},
   "outputs": [],
   "source": []
  }
 ],
 "metadata": {
  "kernelspec": {
   "display_name": "Python 3",
   "language": "python",
   "name": "python3"
  },
  "language_info": {
   "codemirror_mode": {
    "name": "ipython",
    "version": 3
   },
   "file_extension": ".py",
   "mimetype": "text/x-python",
   "name": "python",
   "nbconvert_exporter": "python",
   "pygments_lexer": "ipython3",
   "version": "3.8.5"
  }
 },
 "nbformat": 4,
 "nbformat_minor": 5
}
