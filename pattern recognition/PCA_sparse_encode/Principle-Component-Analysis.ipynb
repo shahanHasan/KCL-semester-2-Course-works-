{
 "cells": [
  {
   "cell_type": "code",
   "execution_count": 1,
   "id": "early-carrier",
   "metadata": {},
   "outputs": [],
   "source": [
    "from sklearn import datasets\n",
    "import numpy as np\n",
    "import pandas as pd\n",
    "import pprintpp\n",
    "import matplotlib.pyplot as plt\n",
    "from sklearn.decomposition import PCA "
   ]
  },
  {
   "cell_type": "code",
   "execution_count": 2,
   "id": "complex-dimension",
   "metadata": {},
   "outputs": [],
   "source": [
    "iris = datasets.load_iris()\n",
    "iris_Feature_vectors = iris.data\n",
    "iris_Class_labels = iris.target\n",
    "Class_Label_names = iris.target_names\n",
    "Description = iris.DESCR\n",
    "Feature_Names = iris.feature_names\n",
    "\n",
    "# print(iris_Data.size)\n",
    "# print(iris_Data)\n",
    "# print(Description)"
   ]
  },
  {
   "cell_type": "code",
   "execution_count": 3,
   "id": "weird-dryer",
   "metadata": {},
   "outputs": [
    {
     "name": "stdout",
     "output_type": "stream",
     "text": [
      "{\n",
      "    1: array([5.2, 2.7, 3.3, 0.6]),\n",
      "    2: array([5.1, 2.3, 6.3, 1.6]),\n",
      "    3: array([7.9, 2.2, 3.4, 1.2]),\n",
      "    4: array([6. , 3.8, 3.3, 0.3]),\n",
      "    5: array([5.2, 3.5, 4.9, 1. ]),\n",
      "}\n"
     ]
    }
   ],
   "source": [
    "\n",
    "Sample_dict = {\n",
    "     1 : np.array([5.2,2.7,3.3,0.6]),\n",
    "     2 : np.array([5.1,2.3,6.3,1.6]),\n",
    "     3 : np.array([7.9,2.2,3.4,1.2]),\n",
    "     4 : np.array([6.0,3.8,3.3,0.3]),\n",
    "     5 : np.array([5.2,3.5,4.9,1.0])\n",
    "}\n",
    "\n",
    "\n",
    "pprintpp.pprint(Sample_dict)\n",
    "\n",
    "\n",
    "pca = PCA(n_components=2)\n",
    "pca.fit(iris_Feature_vectors)\n",
    "X_new = pca.transform(iris_Feature_vectors)\n",
    "\n",
    "#print(\"Optimised Feature Vector\")\n",
    "#print(X_new)\n",
    "\n",
    "# print()\n",
    "# print(f\"PCA components : {pca.components_}\")\n",
    "# print()\n",
    "# print(f\"PCA components Explained : {pca.explained_variance_}\")\n",
    "# print()\n",
    "# print(f\"Percentage of variance explained : {pca.explained_variance_ratio_}\")\n",
    "# print()\n",
    "# print(f\"Singular Values : {pca.singular_values_}\")\n",
    "# print()\n",
    "# print(f\" The estimated number of components : {pca.n_components_}\")\n",
    "# print()\n",
    "# print(f\" mean : {pca.mean_}\")\n",
    "# print()\n",
    "# print(f\" number of features : {pca.n_features_}\")\n",
    "# print()\n",
    "# print(f\" number of samples : {pca.n_samples_}\")\n",
    "# print()"
   ]
  },
  {
   "cell_type": "code",
   "execution_count": 4,
   "id": "optional-serum",
   "metadata": {},
   "outputs": [
    {
     "data": {
      "text/plain": [
       "Text(0.5, 1.0, 'PCA of IRIS dataset')"
      ]
     },
     "execution_count": 4,
     "metadata": {},
     "output_type": "execute_result"
    },
    {
     "data": {
      "image/png": "[encoded data removed]",
      "text/plain": [
       "<Figure size 432x288 with 1 Axes>"
      ]
     },
     "metadata": {
      "needs_background": "light"
     },
     "output_type": "display_data"
    }
   ],
   "source": [
    "import matplotlib.pyplot as plt\n",
    "\n",
    "plt.figure()\n",
    "colors = ['navy', 'turquoise', 'darkorange']\n",
    "lw = 2\n",
    "\n",
    "for color, i, Class_Label_name in zip(colors, [0, 1, 2], Class_Label_names):\n",
    "    plt.scatter(X_new[iris_Class_labels == i, 0], X_new[iris_Class_labels == i, 1], color=color, alpha=.8, lw=lw,\n",
    "                label=Class_Label_name)\n",
    "plt.legend(loc='best', shadow=False, scatterpoints=1)\n",
    "plt.title('PCA of IRIS dataset')\n"
   ]
  },
  {
   "cell_type": "code",
   "execution_count": 5,
   "id": "seasonal-wagon",
   "metadata": {},
   "outputs": [
    {
     "name": "stdout",
     "output_type": "stream",
     "text": [
      "[[-0.8094 -0.5587]\n",
      " [ 2.1166 -1.512 ]\n",
      " [ 0.5093  0.7864]\n",
      " [-0.7207  0.7924]\n",
      " [ 0.637  -0.2821]]\n"
     ]
    }
   ],
   "source": [
    "New_Samples = np.array([\n",
    "    [5.2,2.7,3.3,0.6],\n",
    "    [5.1,2.3,6.3,1.6],\n",
    "    [7.9,2.2,3.4,1.2],\n",
    "    [6.0,3.8,3.3,0.3],\n",
    "    [5.2,3.5,4.9,1.0],\n",
    "])\n",
    "\n",
    "# fit the PCA new samples\n",
    "\n",
    "NewPCASamples = pca.transform(New_Samples)\n",
    "print(np.round(NewPCASamples,4))"
   ]
  },
  {
   "cell_type": "code",
   "execution_count": 6,
   "id": "alternative-florist",
   "metadata": {},
   "outputs": [],
   "source": [
    "from sklearn.decomposition import sparse_encode\n",
    "\n",
    "numNonZero = 2\n",
    "tolerance =  0.00001\n",
    "# y = sparse_encode(x,V,algorithm='omp', n_nonzero_coefs=numNonZero, alpha=tolerance)\n"
   ]
  },
  {
   "cell_type": "code",
   "execution_count": 38,
   "id": "speaking-occurrence",
   "metadata": {},
   "outputs": [
    {
     "name": "stdout",
     "output_type": "stream",
     "text": [
      "\n",
      "Class 0 costs\n",
      "\n",
      "1.8606985206664153\n",
      "0.9859218583112266\n",
      "0.6722430772383607\n",
      "2.964326260657498\n",
      "1.6882164133249593\n",
      "\n",
      "Class 1 costs\n",
      "\n",
      "1.9321915009901462\n",
      "1.2938584382215828\n",
      "0.9402589076066523\n",
      "0.8852887852817131\n",
      "0.87381131538452\n",
      "\n",
      "Class 2 costs\n",
      "\n",
      "1.9647131218340914\n",
      "2.0173847823124698\n",
      "2.172060616090261\n",
      "0.7739621151467602\n",
      "0.5731779435778965\n"
     ]
    }
   ],
   "source": [
    "iris_Feature_vectors = iris.data\n",
    "iris_Class_labels = iris.target\n",
    "Dict = {}\n",
    "empty1 = np.empty((0,4))\n",
    "empty2 = np.empty((0,4))\n",
    "empty3 = np.empty((0,4))\n",
    "Sample_Features = np.array([\n",
    "    [7.0,2.2,2.4,2.1],\n",
    "    [6.5,2.1,2.1,1.2],\n",
    "    [7.1,2.7,1.8,0.8],\n",
    "    [6.8,2.4,5.0,0.6],\n",
    "    [5.2,3.8,3.8,1.3],\n",
    "])\n",
    "\n",
    "\n",
    "for (iris_Feature_vector, iris_Class_label) in zip(iris_Feature_vectors, iris_Class_labels):\n",
    "    #print(f\"{iris_Feature_vector} : {iris_Class_label}\")\n",
    "    if(iris_Class_label == 0):\n",
    "        #print(iris_Feature_vector)\n",
    "        empty1 = np.vstack((empty1,iris_Feature_vector))\n",
    "        Dict[iris_Class_label] = empty1\n",
    "    \n",
    "    if(iris_Class_label == 1):\n",
    "        #print(iris_Feature_vector)\n",
    "        empty2 = np.vstack((empty2,iris_Feature_vector))\n",
    "        Dict[iris_Class_label] = empty2\n",
    "    \n",
    "    if(iris_Class_label == 2):\n",
    "        #print(iris_Feature_vector)\n",
    "        empty3 = np.vstack((empty3,iris_Feature_vector))\n",
    "        Dict[iris_Class_label] = empty3\n",
    "\n",
    "def Cost(Sample_Features, Dict, algorithm='omp',numNonZero = 2, alpha=1.000000e-05, lambdaVal = 0.1):\n",
    "    y=sparse_encode(Sample_Features.reshape(1,-1),Dict,algorithm=algorithm,n_nonzero_coefs=numNonZero,alpha=alpha)\n",
    "    Dict_transpose = np.transpose(Dict)\n",
    "    y_transpose = np.transpose(y)\n",
    "    product = Dict_transpose @ y_transpose\n",
    "    #print(product)\n",
    "    y_l0norm = len(np.nonzero(y_transpose))\n",
    "    Distribution = Sample_Features.reshape(-1,1) - product\n",
    "    #print(Distribution)\n",
    "    cost = np.linalg.norm(Distribution) + (y_l0norm * lambdaVal )\n",
    "    return cost\n",
    "\n",
    "for i in Dict:\n",
    "    if(i == 0):\n",
    "        print()\n",
    "        print(\"Class 0 costs\")\n",
    "        print()\n",
    "    if(i == 1):\n",
    "        print()\n",
    "        print(\"Class 1 costs\")\n",
    "        print()\n",
    "    if(i == 2):\n",
    "        print()\n",
    "        print(\"Class 2 costs\")\n",
    "        print()\n",
    "    for j in Sample_Features:\n",
    "        #print(Dict[i])\n",
    "        cost = Cost(j, Dict[i])\n",
    "        print(cost)\n",
    "\n",
    "\n"
   ]
  },
  {
   "cell_type": "code",
   "execution_count": null,
   "id": "equivalent-headset",
   "metadata": {},
   "outputs": [],
   "source": []
  }
 ],
 "metadata": {
  "kernelspec": {
   "display_name": "Python 3",
   "language": "python",
   "name": "python3"
  },
  "language_info": {
   "codemirror_mode": {
    "name": "ipython",
    "version": 3
   },
   "file_extension": ".py",
   "mimetype": "text/x-python",
   "name": "python",
   "nbconvert_exporter": "python",
   "pygments_lexer": "ipython3",
   "version": "3.8.5"
  }
 },
 "nbformat": 4,
 "nbformat_minor": 5
}
